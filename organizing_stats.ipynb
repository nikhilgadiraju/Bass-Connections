{
 "cells": [
  {
   "cell_type": "code",
   "execution_count": 1,
   "id": "1c80fe03",
   "metadata": {},
   "outputs": [],
   "source": [
    "import pandas as pd\n",
    "import numpy as np\n",
    "import glob\n",
    "import os\n",
    "\n"
   ]
  },
  {
   "cell_type": "code",
   "execution_count": 2,
   "id": "cedc9999",
   "metadata": {},
   "outputs": [],
   "source": [
    "df= pd.read_csv(\"Atlas & Norm CSVs/file_assignments.csv\")"
   ]
  },
  {
   "cell_type": "code",
   "execution_count": 3,
   "id": "f777cff4",
   "metadata": {},
   "outputs": [],
   "source": [
    "def splitJoin(a):\n",
    "    split = a.split('.')\n",
    "    split[-1] = \"LabelStats.csv\"\n",
    "    return \"_\".join(split)"
   ]
  },
  {
   "cell_type": "code",
   "execution_count": 4,
   "id": "9807fb35",
   "metadata": {},
   "outputs": [],
   "source": [
    "df['csvFile'] = list(map(lambda x: splitJoin(x), df['csvFile']))"
   ]
  },
  {
   "cell_type": "code",
   "execution_count": 5,
   "id": "dd111efd",
   "metadata": {},
   "outputs": [],
   "source": [
    "df[\"clear_Number Of Voxels\"] = \"\"\n",
    "df[\"clear_Volume (mm^3)\"] = \"\"\n",
    "df[\"clear_Image mean\"] = \"\"\n",
    "df[\"clear_Image stdev\"] = \"\"\n",
    "\n",
    "df[\"label_Number Of Voxels\"] = \"\"\n",
    "df[\"label_Volume (mm^3)\"] = \"\"\n",
    "df[\"label_Image mean\"] = \"\"\n",
    "df[\"label_Image stdev\"] = \"\""
   ]
  },
  {
   "cell_type": "code",
   "execution_count": 6,
   "id": "782ae5a9",
   "metadata": {},
   "outputs": [
    {
     "data": {
      "text/plain": [
       "Index(['Unnamed: 0', 'filename', 'id', 'csvFile', 'assigned_person',\n",
       "       'clear_Number Of Voxels', 'clear_Volume (mm^3)', 'clear_Image mean',\n",
       "       'clear_Image stdev', 'label_Number Of Voxels', 'label_Volume (mm^3)',\n",
       "       'label_Image mean', 'label_Image stdev'],\n",
       "      dtype='object')"
      ]
     },
     "execution_count": 6,
     "metadata": {},
     "output_type": "execute_result"
    }
   ],
   "source": [
    "df.keys()"
   ]
  },
  {
   "cell_type": "code",
   "execution_count": 7,
   "id": "8e9bd5dd",
   "metadata": {},
   "outputs": [
    {
     "data": {
      "text/plain": [
       "'/Users/pradneshkolluru/OneDrive - Duke University/Courses/Bass Connections/Bass-Connections'"
      ]
     },
     "execution_count": 7,
     "metadata": {},
     "output_type": "execute_result"
    }
   ],
   "source": [
    "pwd"
   ]
  },
  {
   "cell_type": "code",
   "execution_count": 8,
   "id": "bb02fad5",
   "metadata": {},
   "outputs": [
    {
     "name": "stdout",
     "output_type": "stream",
     "text": [
      "\u001B[34mAtlas & Norm CSVs\u001B[m\u001B[m/       \u001B[34mStatistics\u001B[m\u001B[m/              normalizing_stats.ipynb\r\n",
      "Normalization.py         loopscript.sh            organizing_stats.ipynb\r\n",
      "README.md                normalizingNifti.ipynb\r\n"
     ]
    }
   ],
   "source": [
    "ls\n"
   ]
  },
  {
   "cell_type": "code",
   "execution_count": 9,
   "id": "ff04947d",
   "metadata": {},
   "outputs": [
    {
     "name": "stdout",
     "output_type": "stream",
     "text": [
      "/Users/pradneshkolluru/OneDrive - Duke University/Courses/Bass Connections/Bass-Connections/Statistics\n"
     ]
    }
   ],
   "source": [
    "cd Statistics"
   ]
  },
  {
   "cell_type": "code",
   "execution_count": 13,
   "id": "1faad67e",
   "metadata": {},
   "outputs": [],
   "source": [
    "for file in glob.glob(\"*.csv\"):\n",
    "    if(file == 'statfile.csv' or file == \"norm_vals.csv\" or file == \"statfileUpdated.csv\" or file == 'statfile copy.csv'):\n",
    "        continue\n",
    "\n",
    "    df_new = pd.read_csv(file)\n",
    "    df_new.columns = ['Label Id', 'Label Name', 'Number Of Voxels', 'Volume (mm^3)', 'Image mean', 'Image stdev']\n",
    "    for index, row in df_new.iterrows():\n",
    "        if len(df_new) > 2:\n",
    "            if index == 0:\n",
    "                label_type = 'clear_'\n",
    "            elif index == 4:\n",
    "                label_type = 'label_'\n",
    "                df.at[df['csvFile'] == file, label_type + \"Number Of Voxels\"] = row['Number Of Voxels']\n",
    "                df.at[df['csvFile'] == file, label_type + \"Volume (mm^3)\"] = row['Volume (mm^3)']\n",
    "                df.at[df['csvFile'] == file, label_type + \"Image mean\"] = row['Image mean']\n",
    "                df.at[df['csvFile'] == file, label_type + \"Image stdev\"] = row['Image stdev']\n",
    "            \n",
    "        if index == 0:\n",
    "            label_type = 'clear_'\n",
    "        else:\n",
    "            label_type = 'label_'\n",
    "        df.at[df['csvFile'] == file, label_type + \"Number Of Voxels\"] = row['Number Of Voxels']\n",
    "        df.at[df['csvFile'] == file, label_type + \"Volume (mm^3)\"] = row['Volume (mm^3)']\n",
    "        df.at[df['csvFile'] == file, label_type + \"Image mean\"] = row['Image mean']\n",
    "        df.at[df['csvFile'] == file, label_type + \"Image stdev\"] = row['Image stdev']"
   ]
  },
  {
   "cell_type": "code",
   "execution_count": 14,
   "id": "873aee61",
   "metadata": {},
   "outputs": [
    {
     "name": "stdout",
     "output_type": "stream",
     "text": [
      "/Users/pradneshkolluru/OneDrive - Duke University/Courses/Bass Connections/Bass-Connections\n"
     ]
    }
   ],
   "source": [
    "cd ..\n"
   ]
  },
  {
   "cell_type": "code",
   "execution_count": 15,
   "id": "e2f3a313",
   "metadata": {},
   "outputs": [],
   "source": [
    "df.to_csv('Atlas & Norm CSVs/statfile.csv')"
   ]
  },
  {
   "cell_type": "code",
   "execution_count": null,
   "id": "99367a96",
   "metadata": {},
   "outputs": [],
   "source": []
  },
  {
   "cell_type": "code",
   "execution_count": null,
   "id": "133c659f",
   "metadata": {},
   "outputs": [],
   "source": []
  }
 ],
 "metadata": {
  "kernelspec": {
   "display_name": "Python 3",
   "language": "python",
   "name": "python3"
  },
  "language_info": {
   "codemirror_mode": {
    "name": "ipython",
    "version": 3
   },
   "file_extension": ".py",
   "mimetype": "text/x-python",
   "name": "python",
   "nbconvert_exporter": "python",
   "pygments_lexer": "ipython3",
   "version": "3.8.8"
  }
 },
 "nbformat": 4,
 "nbformat_minor": 5
}