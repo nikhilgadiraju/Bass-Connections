{
 "cells": [
  {
   "cell_type": "code",
   "execution_count": 3,
   "id": "c3c793d8",
   "metadata": {},
   "outputs": [],
   "source": [
    "import pandas as pd\n",
    "import numpy as np"
   ]
  },
  {
   "cell_type": "code",
   "execution_count": 4,
   "id": "536fc674",
   "metadata": {},
   "outputs": [
    {
     "data": {
      "text/plain": [
       "'/Users/pradneshkolluru/OneDrive - Duke University/Courses/Bass Connections/Bass-Connections'"
      ]
     },
     "execution_count": 4,
     "metadata": {},
     "output_type": "execute_result"
    }
   ],
   "source": [
    "pwd"
   ]
  },
  {
   "cell_type": "code",
   "execution_count": 8,
   "id": "1488399c",
   "metadata": {},
   "outputs": [],
   "source": [
    "df= pd.read_csv(\"Atlas & Norm CSVs/statfile.csv\")"
   ]
  },
  {
   "cell_type": "code",
   "execution_count": 9,
   "id": "80c7d2f9",
   "metadata": {},
   "outputs": [],
   "source": [
    "df = df.dropna()\n"
   ]
  },
  {
   "cell_type": "code",
   "execution_count": 10,
   "id": "600fbeba",
   "metadata": {},
   "outputs": [
    {
     "name": "stdout",
     "output_type": "stream",
     "text": [
      "0.513261368787234\n",
      "0.15175152648158458\n"
     ]
    }
   ],
   "source": [
    "mean = np.average(df['label_Image mean'])\n",
    "stdev = np.std(df['label_Image mean'])\n",
    "print(mean)\n",
    "print(stdev)"
   ]
  },
  {
   "cell_type": "code",
   "execution_count": 11,
   "id": "c06d19d4",
   "metadata": {},
   "outputs": [],
   "source": [
    "df['normal'] = list(map(lambda x : (x - mean) / stdev, df['label_Image mean']))"
   ]
  },
  {
   "cell_type": "code",
   "execution_count": 12,
   "id": "31cdcedd",
   "metadata": {},
   "outputs": [],
   "source": [
    "df['mRatio'] = list(map(lambda x : mean / x, df['label_Image mean']))"
   ]
  },
  {
   "cell_type": "code",
   "execution_count": 13,
   "id": "55190cf3",
   "metadata": {},
   "outputs": [],
   "source": [
    "df.to_csv(\"Atlas & Norm CSVs/norm_vals.csv\")"
   ]
  }
 ],
 "metadata": {
  "kernelspec": {
   "display_name": "PyCharm (Bass-Connections)",
   "language": "python",
   "name": "pycharm-fe70d9e8"
  },
  "language_info": {
   "codemirror_mode": {
    "name": "ipython",
    "version": 3
   },
   "file_extension": ".py",
   "mimetype": "text/x-python",
   "name": "python",
   "nbconvert_exporter": "python",
   "pygments_lexer": "ipython3",
   "version": "3.9.5"
  }
 },
 "nbformat": 4,
 "nbformat_minor": 5
}