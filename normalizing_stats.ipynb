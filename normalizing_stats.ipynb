{
 "cells": [
  {
   "cell_type": "code",
   "execution_count": 1,
   "id": "c3c793d8",
   "metadata": {},
   "outputs": [],
   "source": [
    "import pandas as pd\n",
    "import numpy as np"
   ]
  },
  {
   "cell_type": "code",
   "execution_count": 2,
   "id": "1488399c",
   "metadata": {},
   "outputs": [],
   "source": [
    "df= pd.read_csv(\"/Users/pradneshkolluru/OneDrive - Duke University/RARE_BASS/Statistics/statfile.csv\")"
   ]
  },
  {
   "cell_type": "code",
   "execution_count": 3,
   "id": "80c7d2f9",
   "metadata": {},
   "outputs": [],
   "source": [
    "df = df.dropna()\n"
   ]
  },
  {
   "cell_type": "code",
   "execution_count": 4,
   "id": "600fbeba",
   "metadata": {},
   "outputs": [
    {
     "name": "stdout",
     "output_type": "stream",
     "text": [
      "0.5218522857142857\n",
      "0.1557039175294508\n"
     ]
    }
   ],
   "source": [
    "mean = np.average(df['label_Image mean'])\n",
    "stdev = np.std(df['label_Image mean'])\n",
    "print(mean)\n",
    "print(stdev)"
   ]
  },
  {
   "cell_type": "code",
   "execution_count": 5,
   "id": "c06d19d4",
   "metadata": {},
   "outputs": [],
   "source": [
    "df['normal'] = list(map(lambda x : (x - mean) / stdev, df['label_Image mean']))"
   ]
  },
  {
   "cell_type": "code",
   "execution_count": 6,
   "id": "31cdcedd",
   "metadata": {},
   "outputs": [],
   "source": [
    "df['mRatio'] = list(map(lambda x : mean / x, df['label_Image mean']))"
   ]
  },
  {
   "cell_type": "code",
   "execution_count": 7,
   "id": "55190cf3",
   "metadata": {},
   "outputs": [],
   "source": [
    "df.to_csv(\"/Users/pradneshkolluru/OneDrive - Duke University/RARE_BASS/Normalized Images/norm_vals.csv\")"
   ]
  },
  {
   "cell_type": "code",
   "execution_count": 7,
   "id": "b5f55c76",
   "metadata": {},
   "outputs": [],
   "source": []
  }
 ],
 "metadata": {
  "kernelspec": {
   "name": "pycharm-fe70d9e8",
   "language": "python",
   "display_name": "PyCharm (Bass-Connections)"
  },
  "language_info": {
   "codemirror_mode": {
    "name": "ipython",
    "version": 3
   },
   "file_extension": ".py",
   "mimetype": "text/x-python",
   "name": "python",
   "nbconvert_exporter": "python",
   "pygments_lexer": "ipython3",
   "version": "3.8.8"
  }
 },
 "nbformat": 4,
 "nbformat_minor": 5
}