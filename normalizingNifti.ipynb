{
 "cells": [
  {
   "cell_type": "code",
   "execution_count": 27,
   "id": "1e7145ba",
   "metadata": {},
   "outputs": [],
   "source": [
    "import pandas as pd\n",
    "import numpy as np\n",
    "import glob\n",
    "import nibabel as nib\n",
    "from nibabel.testing import data_path\n",
    "import os"
   ]
  },
  {
   "cell_type": "code",
   "execution_count": 28,
   "id": "1d6aa376",
   "metadata": {},
   "outputs": [],
   "source": [
    "df = pd.read_csv(\"/Users/pradneshkolluru/OneDrive - Duke University/RARE_BASS/Normalized Images/norm_vals.csv\")"
   ]
  },
  {
   "cell_type": "code",
   "execution_count": 29,
   "id": "3ccb329d",
   "metadata": {},
   "outputs": [],
   "source": [
    "writepath = \"/Users/pradneshkolluru/OneDrive - Duke University/RARE_BASS/Normalized Images\"\n",
    "readpath = \"/Users/pradneshkolluru/OneDrive - Duke University/RARE_BASS\""
   ]
  },
  {
   "cell_type": "code",
   "execution_count": 30,
   "id": "a43a18d4",
   "metadata": {},
   "outputs": [],
   "source": [
    "for row,items in df.iterrows():\n",
    "    example_filename = os.path.join(readpath, items[\"filename\"])\n",
    "    img = nib.load(example_filename)\n",
    "    data = img.get_fdata()\n",
    "    data = data * items[\"mRatio\"]\n",
    "    img = nib.Nifti1Image(data, img.affine)\n",
    "\n",
    "    nib.save(img, writepath + \"/\" + \"normalized_\" + items[\"filename\"])"
   ]
  },
  {
   "cell_type": "code",
   "execution_count": 31,
   "id": "21609a5a",
   "metadata": {},
   "outputs": [
    {
     "name": "stdout",
     "output_type": "stream",
     "text": [
      "/Users/pradneshkolluru/OneDrive - Duke University/RARE_BASS\n"
     ]
    }
   ],
   "source": [
    "cd /Users/pradneshkolluru/OneDrive - Duke University/RARE_BASS"
   ]
  },
  {
   "cell_type": "code",
   "execution_count": 32,
   "id": "dd5a0cbb",
   "metadata": {},
   "outputs": [],
   "source": [
    "filenames = np.array([])\n",
    "sampleID = np.array([])\n",
    "for file in glob.glob(\"*.gz\"):\n",
    "    if file[-13:] == \"labels.nii.gz\":\n",
    "        split = file.split('_')[0:3]\n",
    "        sampleID = np.append(sampleID,( \"_\".join(split)))\n",
    "        filenames = np.append(filenames,file)"
   ]
  },
  {
   "cell_type": "code",
   "execution_count": 33,
   "id": "c7c19c93",
   "metadata": {},
   "outputs": [],
   "source": [
    "labelsDF = pd.DataFrame({\"id\": sampleID, \"labelFile\": filenames})"
   ]
  },
  {
   "cell_type": "code",
   "execution_count": 34,
   "id": "934db2cc",
   "metadata": {},
   "outputs": [],
   "source": [
    "df['id'] = list(map(lambda x: \"_\".join(x.split('_')[0:3]), df['id']))"
   ]
  },
  {
   "cell_type": "code",
   "execution_count": 36,
   "id": "9abfdf4f",
   "metadata": {},
   "outputs": [],
   "source": [
    "merge = df.merge(labelsDF, left_on='id', right_on='id')"
   ]
  },
  {
   "cell_type": "code",
   "execution_count": 44,
   "id": "e177ec52",
   "metadata": {},
   "outputs": [],
   "source": [
    "merge = merge.drop_duplicates(subset=['id'])"
   ]
  },
  {
   "cell_type": "code",
   "execution_count": 46,
   "id": "14511473",
   "metadata": {},
   "outputs": [],
   "source": [
    "writepath = \"/Users/pradneshkolluru/OneDrive - Duke University/RARE_BASS/Standardized\""
   ]
  },
  {
   "cell_type": "code",
   "execution_count": 48,
   "id": "c74a918f",
   "metadata": {},
   "outputs": [],
   "source": [
    "for row,items in merge.iterrows():\n",
    "    raw_filename = os.path.join(readpath, items[\"filename\"])\n",
    "    raw = nib.load(raw_filename)\n",
    "    scaledRaw = raw.get_fdata() * items[\"mRatio\"]\n",
    "    lab_filename = os.path.join(readpath, items[\"labelFile\"])\n",
    "    lab = nib.load(lab_filename)\n",
    "    labels = lab.get_fdata()\n",
    "    lab_mask = np.array((np.ma.array(labels) > 0)*1)\n",
    "    brain_bin = np.multiply(lab_mask, scaledRaw)    \n",
    "    img = nib.Nifti1Image(brain_bin, lab.affine)\n",
    "    nib.save(img, writepath + \"/\" + \"standardized_\" + items[\"filename\"])"
   ]
  },
  {
   "cell_type": "code",
   "execution_count": null,
   "id": "cdc1697f",
   "metadata": {},
   "outputs": [],
   "source": []
  }
 ],
 "metadata": {
  "kernelspec": {
   "display_name": "Python 3",
   "language": "python",
   "name": "python3"
  },
  "language_info": {
   "codemirror_mode": {
    "name": "ipython",
    "version": 3
   },
   "file_extension": ".py",
   "mimetype": "text/x-python",
   "name": "python",
   "nbconvert_exporter": "python",
   "pygments_lexer": "ipython3",
   "version": "3.8.8"
  }
 },
 "nbformat": 4,
 "nbformat_minor": 5
}
